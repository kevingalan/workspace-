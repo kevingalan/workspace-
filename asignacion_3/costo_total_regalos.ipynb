{
 "cells": [
  {
   "cell_type": "markdown",
   "metadata": {},
   "source": [
    "**Asignación Tres**"
   ]
  },
  {
   "cell_type": "markdown",
   "metadata": {},
   "source": [
    "Se desarrollo tres propuestas para una tienda de ventas en línea que desea conocer el monto que le empresa va invertir para su campaña, la cual consiste en regalar a cada cliente la selección de su lista de deseos con la condición que sea menor a $25.\n",
    "\n",
    "Se requirió la utilización de las librerías Pandas y Numpy en las diferentes propuestas de igual manera en cada propuesta se carga la Data de diferentes maneras, las cuales se detallan de la siguiente manera:"
   ]
  },
  {
   "cell_type": "code",
   "execution_count": 5,
   "metadata": {},
   "outputs": [],
   "source": [
    "import time\n",
    "import pandas as pd\n",
    "import numpy as np"
   ]
  },
  {
   "cell_type": "markdown",
   "metadata": {},
   "source": [
    "**Propuesta Uno**"
   ]
  },
  {
   "cell_type": "markdown",
   "metadata": {},
   "source": [
    "Se utilizo únicamente pura estructura de Python"
   ]
  },
  {
   "cell_type": "code",
   "execution_count": 7,
   "metadata": {},
   "outputs": [],
   "source": [
    "with open('../data_asignacion1-2/costos.txt') as costos:\n",
    "    lista_costos = costos.read().split('\\n')"
   ]
  },
  {
   "cell_type": "code",
   "execution_count": 9,
   "metadata": {},
   "outputs": [
    {
     "name": "stdout",
     "output_type": "stream",
     "text": [
      "Total : $30338353\n",
      "Duracion: 3.441204786300659 segundos\n"
     ]
    }
   ],
   "source": [
    "inicio = time.time()\n",
    "costo_total= 0\n",
    "\n",
    "for costo in lista_costos:\n",
    "    if int(costo) < 25:\n",
    "        costo_total += int(costo)\n",
    "                \n",
    "print(f\"Total : ${costo_total}\")\n",
    "print('Duracion: {} segundos'.format(time.time() - inicio))"
   ]
  },
  {
   "cell_type": "markdown",
   "metadata": {},
   "source": [
    "**Propuesta Dos**"
   ]
  },
  {
   "cell_type": "markdown",
   "metadata": {},
   "source": [
    "Se baso en diferentes funciones que ofrece Numpy"
   ]
  },
  {
   "cell_type": "code",
   "execution_count": 10,
   "metadata": {},
   "outputs": [],
   "source": [
    "nueva_lista_costos = np.genfromtxt(\"../data_asignacion1-2/costos.txt\", delimiter = \"\\n\")"
   ]
  },
  {
   "cell_type": "code",
   "execution_count": 21,
   "metadata": {
    "scrolled": true
   },
   "outputs": [
    {
     "name": "stdout",
     "output_type": "stream",
     "text": [
      "Total : $30338353.0\n",
      "Duracion: 0.06383323669433594 segundos\n"
     ]
    }
   ],
   "source": [
    "inicio = time.time()\n",
    "\n",
    "condicion = nueva_lista_costos[nueva_lista_costos < 25]\n",
    "gasto_total = np.sum(condicion)\n",
    "\n",
    "print(f\"Total : ${gasto_total}\")\n",
    "print('Duracion: {} segundos'.format(time.time() - inicio))"
   ]
  },
  {
   "cell_type": "markdown",
   "metadata": {},
   "source": [
    "**Propuesta Tres**"
   ]
  },
  {
   "cell_type": "markdown",
   "metadata": {},
   "source": [
    "Se utilizo una combinación de las librerías Pandas y Numpy. En tanto a la lectura de la data se hizo por medio de Pandas y luego se hace la conversion de la misma a un array de numpy"
   ]
  },
  {
   "cell_type": "code",
   "execution_count": 17,
   "metadata": {},
   "outputs": [],
   "source": [
    "df = pd.read_csv('../data_asignacion1-2/costos.txt', delimiter = \"\\n\").to_numpy()"
   ]
  },
  {
   "cell_type": "code",
   "execution_count": 22,
   "metadata": {},
   "outputs": [
    {
     "name": "stdout",
     "output_type": "stream",
     "text": [
      "Total : $30338345\n",
      "Duracion: 0.058875083923339844 segundos\n"
     ]
    }
   ],
   "source": [
    "inicio = time.time()\n",
    "\n",
    "evaluacion = df[df[ : ]<25]\n",
    "gasto_total2 = np.sum(evaluacion)\n",
    "\n",
    "print(f\"Total : ${gasto_total2}\")\n",
    "print('Duracion: {} segundos'.format(time.time() - inicio))"
   ]
  }
 ],
 "metadata": {
  "kernelspec": {
   "display_name": "Python 3",
   "language": "python",
   "name": "python3"
  },
  "language_info": {
   "codemirror_mode": {
    "name": "ipython",
    "version": 3
   },
   "file_extension": ".py",
   "mimetype": "text/x-python",
   "name": "python",
   "nbconvert_exporter": "python",
   "pygments_lexer": "ipython3",
   "version": "3.8.3"
  }
 },
 "nbformat": 4,
 "nbformat_minor": 4
}
