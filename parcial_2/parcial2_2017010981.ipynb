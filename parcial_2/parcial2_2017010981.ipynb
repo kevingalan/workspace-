{
 "cells": [
  {
   "cell_type": "markdown",
   "metadata": {},
   "source": [
    "**Laboratorio 2:** Se ha generado un scrip que permite la creacion de una database con un total de 10,000,000 de datos aleatorios con una media de 500 y una escala de 30, luego de esto se realiza una estructura de control por medio de un ciclo FOR y una condicion IF la cual evalua todos los valores menores a 500,000 para su posterior suma."
   ]
  },
  {
   "cell_type": "markdown",
   "metadata": {},
   "source": [
    "**Librerias**"
   ]
  },
  {
   "cell_type": "code",
   "execution_count": 11,
   "metadata": {},
   "outputs": [],
   "source": [
    "#Importacion de librerias\n",
    "import numpy as np\n",
    "import time"
   ]
  },
  {
   "cell_type": "markdown",
   "metadata": {},
   "source": [
    "**Creacion de data**"
   ]
  },
  {
   "cell_type": "code",
   "execution_count": 12,
   "metadata": {},
   "outputs": [
    {
     "name": "stdout",
     "output_type": "stream",
     "text": [
      "[486.17029902 502.51811864 502.21004245 ... 473.03513259 548.39232532\n",
      " 476.83480143]\n",
      "(10000000,)\n"
     ]
    }
   ],
   "source": [
    "database = np.random.normal(500,size = 10000000,scale = 30)\n",
    "\n",
    "#Muestra algunos datos de la data\n",
    "print(database)\n",
    "\n",
    "#Indexacion de la data\n",
    "print(database.shape)"
   ]
  },
  {
   "cell_type": "markdown",
   "metadata": {},
   "source": [
    "**Estructuras de control**"
   ]
  },
  {
   "cell_type": "code",
   "execution_count": 13,
   "metadata": {},
   "outputs": [
    {
     "name": "stdout",
     "output_type": "stream",
     "text": [
      "Total : $5000055365.89241\n",
      "Duracion: 12.785233497619629 segundos\n"
     ]
    }
   ],
   "source": [
    "#Medicion del tiempo de ejecucion\n",
    "inicio = time.time()\n",
    "suma= 0\n",
    "\n",
    "#Se crea la estura de control con su respectiva condicional\n",
    "for i in database:\n",
    "    if (i < 500000):\n",
    "        suma += i #suma por medio de iteraciones\n",
    "\n",
    "#Impresion de resultados \n",
    "print(f\"Total : ${suma}\")\n",
    "print('Duracion: {} segundos'.format(time.time() - inicio))"
   ]
  },
  {
   "cell_type": "markdown",
   "metadata": {},
   "source": [
    "**Optimizacion de codigo**"
   ]
  },
  {
   "cell_type": "markdown",
   "metadata": {},
   "source": [
    "**Parcial 2:** Se ha realizado una optimizacion del codigo fuente por medio de la implementacion libreria Numpy, permitiendo asi una mejora del mas del 300%"
   ]
  },
  {
   "cell_type": "code",
   "execution_count": 14,
   "metadata": {},
   "outputs": [
    {
     "name": "stdout",
     "output_type": "stream",
     "text": [
      "Sumatoria total : $5000055365.892201\n",
      "Duracion: 0.10456252098083496 segundos\n"
     ]
    }
   ],
   "source": [
    "#Medicion del tiempo de ejecucion\n",
    "inicio = time.time()\n",
    "\n",
    "#Implementacion de Numpy\n",
    "datos_menores = database[database < 500000]\n",
    "suma = np.sum(datos_menores)\n",
    "\n",
    "#Impresion de resultados\n",
    "print(f\"Sumatoria total : ${suma}\")\n",
    "print('Duracion: {} segundos'.format(time.time() - inicio))"
   ]
  },
  {
   "cell_type": "code",
   "execution_count": null,
   "metadata": {},
   "outputs": [],
   "source": []
  }
 ],
 "metadata": {
  "kernelspec": {
   "display_name": "Python 3",
   "language": "python",
   "name": "python3"
  },
  "language_info": {
   "codemirror_mode": {
    "name": "ipython",
    "version": 3
   },
   "file_extension": ".py",
   "mimetype": "text/x-python",
   "name": "python",
   "nbconvert_exporter": "python",
   "pygments_lexer": "ipython3",
   "version": "3.8.3"
  }
 },
 "nbformat": 4,
 "nbformat_minor": 4
}
