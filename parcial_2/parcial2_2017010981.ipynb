{
 "cells": [
  {
   "cell_type": "markdown",
   "metadata": {},
   "source": [
    "**Laboratorio 2:** Se ha generado un scrip que permite la creacion de una database con un total de 10,000,000 de datos aleatorios con una media de 500 y una escala de 30, luego de esto se realiza una estructura de control por medio de un ciclo FOR y una condicion IF la cual evalua todos los valores menores a 500,000 para su posterior suma."
   ]
  },
  {
   "cell_type": "markdown",
   "metadata": {},
   "source": [
    "**Librerias**"
   ]
  },
  {
   "cell_type": "code",
   "execution_count": 8,
   "metadata": {},
   "outputs": [],
   "source": [
    "#Importacion de librerias\n",
    "import numpy as np\n",
    "import time"
   ]
  },
  {
   "cell_type": "markdown",
   "metadata": {},
   "source": [
    "**Creacion de data**"
   ]
  },
  {
   "cell_type": "code",
   "execution_count": 9,
   "metadata": {},
   "outputs": [
    {
     "name": "stdout",
     "output_type": "stream",
     "text": [
      "[484.55597725 475.7732017  516.33951667 ... 494.53438474 542.64951888\n",
      " 522.11279862]\n",
      "(10000000,)\n"
     ]
    }
   ],
   "source": [
    "database = np.random.normal(500,size = 10000000,scale = 30)\n",
    "\n",
    "#Muestra algunos datos de la data\n",
    "print(database)\n",
    "\n",
    "#Indexacion de la data\n",
    "print(database.shape)"
   ]
  },
  {
   "cell_type": "markdown",
   "metadata": {},
   "source": [
    "**Estructuras de control**"
   ]
  },
  {
   "cell_type": "code",
   "execution_count": 13,
   "metadata": {},
   "outputs": [
    {
     "name": "stdout",
     "output_type": "stream",
     "text": [
      "Total : $5000147958.04029\n",
      "Duracion: 5.198780298233032 segundos\n"
     ]
    }
   ],
   "source": [
    "#Medicion del tiempo de ejecucion\n",
    "inicio = time.time()\n",
    "suma= 0\n",
    "\n",
    "#Se crea la estura de control con su respectiva condicional\n",
    "for i in database:\n",
    "    if (i < 500000):\n",
    "        suma += i #suma por medio de iteraciones\n",
    "\n",
    "#Impresion de resultados \n",
    "print(f\"Total : ${suma}\")\n",
    "print('Duracion: {} segundos'.format(time.time() - inicio))"
   ]
  },
  {
   "cell_type": "markdown",
   "metadata": {},
   "source": [
    "**Optimizacion de codigo**"
   ]
  },
  {
   "cell_type": "markdown",
   "metadata": {},
   "source": [
    "**Parcial 2:** Se ha realizado una optimizacion del codigo fuente por medio de la implementacion libreria Numpy"
   ]
  },
  {
   "cell_type": "code",
   "execution_count": 12,
   "metadata": {},
   "outputs": [
    {
     "name": "stdout",
     "output_type": "stream",
     "text": [
      "Sumatoria total : $2379443474.4771185\n",
      "Duracion: 0.08278346061706543 segundos\n"
     ]
    }
   ],
   "source": [
    "#Medicion del tiempo de ejecucion\n",
    "inicio = time.time()\n",
    "\n",
    "#Implementacion de Numpy\n",
    "datos_menores = database[database < 500.000]\n",
    "suma = np.sum(datos_menores) \n",
    "\n",
    "#Impresion de resultados\n",
    "print(f\"Sumatoria total : ${suma}\")\n",
    "print('Duracion: {} segundos'.format(time.time() - inicio))"
   ]
  },
  {
   "cell_type": "code",
   "execution_count": null,
   "metadata": {},
   "outputs": [],
   "source": []
  }
 ],
 "metadata": {
  "kernelspec": {
   "display_name": "Python 3",
   "language": "python",
   "name": "python3"
  },
  "language_info": {
   "codemirror_mode": {
    "name": "ipython",
    "version": 3
   },
   "file_extension": ".py",
   "mimetype": "text/x-python",
   "name": "python",
   "nbconvert_exporter": "python",
   "pygments_lexer": "ipython3",
   "version": "3.8.3"
  }
 },
 "nbformat": 4,
 "nbformat_minor": 4
}
