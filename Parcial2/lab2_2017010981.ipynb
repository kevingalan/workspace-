{
 "cells": [
  {
   "cell_type": "markdown",
   "metadata": {},
   "source": [
    "**Laboratorio 2:** Se ha generado un scrip que permite la creacion de una database con un total de 10,000,000 de datos aleatorios con una media de 500 y una escala de 30, luego de esto se realiza una estructura de control por medio de un ciclo FOR y una condicion IF la cual evalua todos los valores menores a 500,000 para su posterior suma."
   ]
  },
  {
   "cell_type": "markdown",
   "metadata": {},
   "source": [
    "**Librerias**"
   ]
  },
  {
   "cell_type": "code",
   "execution_count": 128,
   "metadata": {},
   "outputs": [],
   "source": [
    "#Importacion de librerias\n",
    "import numpy as np\n",
    "import time"
   ]
  },
  {
   "cell_type": "markdown",
   "metadata": {},
   "source": [
    "**Creacion de data**"
   ]
  },
  {
   "cell_type": "code",
   "execution_count": 133,
   "metadata": {},
   "outputs": [
    {
     "name": "stdout",
     "output_type": "stream",
     "text": [
      "[457.37002884 563.52835864 453.18545353 ... 498.27945451 524.1655817\n",
      " 534.06969606]\n",
      "(10000000,)\n"
     ]
    }
   ],
   "source": [
    "bd = np.random.normal(500,size = 10000000,scale = 30)\n",
    "\n",
    "#Muestra algunos datos de la data\n",
    "print(bd)\n",
    "\n",
    "#Indexacion de la data\n",
    "print(bd.shape)"
   ]
  },
  {
   "cell_type": "markdown",
   "metadata": {},
   "source": [
    "**Estructuras de control**"
   ]
  },
  {
   "cell_type": "code",
   "execution_count": 135,
   "metadata": {},
   "outputs": [
    {
     "name": "stdout",
     "output_type": "stream",
     "text": [
      "Total : $4999952375.344663\n",
      "Duracion: 6.769091606140137 segundos\n"
     ]
    }
   ],
   "source": [
    "#Medicion del tiempo de ejecucion\n",
    "inicio = time.time()\n",
    "suma= 0\n",
    "\n",
    "#Se crea la estura de control con su respectiva condicional\n",
    "for i in bd:\n",
    "    if (i < 500000):\n",
    "        suma += i #suma por medio de iteraciones\n",
    "\n",
    "#Impresion de resultados \n",
    "print(f\"Total : ${suma}\")\n",
    "print('Duracion: {} segundos'.format(time.time() - inicio))"
   ]
  },
  {
   "cell_type": "code",
   "execution_count": null,
   "metadata": {},
   "outputs": [],
   "source": []
  }
 ],
 "metadata": {
  "kernelspec": {
   "display_name": "Python 3",
   "language": "python",
   "name": "python3"
  },
  "language_info": {
   "codemirror_mode": {
    "name": "ipython",
    "version": 3
   },
   "file_extension": ".py",
   "mimetype": "text/x-python",
   "name": "python",
   "nbconvert_exporter": "python",
   "pygments_lexer": "ipython3",
   "version": "3.8.3"
  }
 },
 "nbformat": 4,
 "nbformat_minor": 4
}
