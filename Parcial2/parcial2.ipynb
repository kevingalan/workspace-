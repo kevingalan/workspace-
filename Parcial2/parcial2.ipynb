{
 "cells": [
  {
   "cell_type": "code",
   "execution_count": 120,
   "metadata": {},
   "outputs": [],
   "source": [
    "import numpy as np\n",
    "import random\n",
    "import time"
   ]
  },
  {
   "cell_type": "code",
   "execution_count": 121,
   "metadata": {},
   "outputs": [
    {
     "name": "stdout",
     "output_type": "stream",
     "text": [
      "[495.86454771 532.13924759 493.08921576 ... 460.38242046 534.49476835\n",
      " 517.30178398]\n",
      "(10000000,)\n"
     ]
    }
   ],
   "source": [
    "bd = np.random.normal(500,size = 10000000,scale = 30)\n",
    "print(bd)\n",
    "print(bd.shape)"
   ]
  },
  {
   "cell_type": "code",
   "execution_count": 124,
   "metadata": {},
   "outputs": [
    {
     "name": "stdout",
     "output_type": "stream",
     "text": [
      "Total : $4999966436.975146\n",
      "Duracion: 13.319014072418213 segundos\n"
     ]
    }
   ],
   "source": [
    "inicio = time.time()\n",
    "suma= 0\n",
    "\n",
    "for i in bd:\n",
    "    if (i < 500000):\n",
    "        suma += i\n",
    "                \n",
    "print(f\"Total : ${suma}\")\n",
    "print('Duracion: {} segundos'.format(time.time() - inicio))"
   ]
  },
  {
   "cell_type": "code",
   "execution_count": null,
   "metadata": {},
   "outputs": [],
   "source": []
  }
 ],
 "metadata": {
  "kernelspec": {
   "display_name": "Python 3",
   "language": "python",
   "name": "python3"
  },
  "language_info": {
   "codemirror_mode": {
    "name": "ipython",
    "version": 3
   },
   "file_extension": ".py",
   "mimetype": "text/x-python",
   "name": "python",
   "nbconvert_exporter": "python",
   "pygments_lexer": "ipython3",
   "version": "3.8.3"
  }
 },
 "nbformat": 4,
 "nbformat_minor": 4
}
