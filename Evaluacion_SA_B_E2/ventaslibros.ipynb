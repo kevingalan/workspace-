{
 "cells": [
  {
   "cell_type": "markdown",
   "metadata": {},
   "source": [
    "Optimizacion de Codigo, Ejemplo 1: Identificacion de Ventas en un periodo\n",
    "Generar metricas de desempeño es una tarea muy frecuente en cualquier ambito de negocio, el siguiente codigo fue escrito para identificar qué libros fueron vendidos a partir de un listado especifico:"
   ]
  },
  {
   "cell_type": "code",
   "execution_count": 5,
   "metadata": {},
   "outputs": [],
   "source": [
    "#Importante tener instalar previamente las librerias de Pandas y Numpy para la correcta ejecucion del codigo"
   ]
  },
  {
   "cell_type": "code",
   "execution_count": 2,
   "metadata": {},
   "outputs": [],
   "source": [
    "import time\n",
    "import pandas as pd\n",
    "import numpy as np"
   ]
  },
  {
   "cell_type": "code",
   "execution_count": 3,
   "metadata": {},
   "outputs": [],
   "source": [
    "with open('libros_24_meses.txt') as libros_venta:\n",
    "    periodo24_ventas_libros = libros_venta.read().split('\\n')\n",
    "    \n",
    "with open('catalogo_libros.txt') as catalogo:\n",
    "    catalogo_libros = catalogo.read().split('\\n')"
   ]
  },
  {
   "cell_type": "markdown",
   "metadata": {},
   "source": [
    "**Propuesta Uno** "
   ]
  },
  {
   "cell_type": "code",
   "execution_count": 3,
   "metadata": {},
   "outputs": [
    {
     "name": "stdout",
     "output_type": "stream",
     "text": [
      "96\n",
      "Duracion: 12.731924295425415 segundos\n"
     ]
    }
   ],
   "source": [
    "inicio = time.time()\n",
    "libros_vendidos = []\n",
    "\n",
    "for libro in periodo24_ventas_libros:\n",
    "    if libro in catalogo_libros:\n",
    "        libros_vendidos.append(libro)\n",
    "\n",
    "print(len(libros_vendidos))\n",
    "print('Duracion: {} segundos'.format(time.time() - inicio))"
   ]
  },
  {
   "cell_type": "markdown",
   "metadata": {},
   "source": [
    "Asignacion 1: Despues de analizar el codigo fuente, se propone sustituir el uso de .... por ... para..."
   ]
  },
  {
   "cell_type": "markdown",
   "metadata": {},
   "source": [
    "**Propuesta Dos** "
   ]
  },
  {
   "cell_type": "code",
   "execution_count": 4,
   "metadata": {},
   "outputs": [
    {
     "name": "stdout",
     "output_type": "stream",
     "text": [
      "96\n",
      "Duracion: 0.037934064865112305 segundos\n"
     ]
    }
   ],
   "source": [
    "inicio = time.time()\n",
    "libros_vendidos = np.intersect1d(periodo24_ventas_libros, catalogo_libros)\n",
    "print(len(libros_vendidos))\n",
    "print('Duracion: {} segundos'.format(time.time() - inicio))"
   ]
  },
  {
   "cell_type": "markdown",
   "metadata": {},
   "source": [
    "Asignacion 2:Otro enfoque para optimizar el codigo fuente puede ser..."
   ]
  },
  {
   "cell_type": "markdown",
   "metadata": {},
   "source": [
    "**Propuesta Tres:**"
   ]
  },
  {
   "cell_type": "markdown",
   "metadata": {},
   "source": [
    "Se hizo uso de las funciones set() y intersection() permite comparar las dos listas y sacar como resultado la considencia que existen en ambas."
   ]
  },
  {
   "cell_type": "code",
   "execution_count": 42,
   "metadata": {},
   "outputs": [
    {
     "name": "stdout",
     "output_type": "stream",
     "text": [
      "96\n",
      "Duracion: 0.0030813217163085938 segundos\n"
     ]
    }
   ],
   "source": [
    "inicio = time.time()\n",
    "\n",
    "libros_vendidos = set(catalogo_libros).intersection(periodo24_ventas_libros)\n",
    "\n",
    "print(len(libros_vendidos))\n",
    "print('Duracion: {} segundos'.format(time.time() - inicio))"
   ]
  },
  {
   "cell_type": "markdown",
   "metadata": {},
   "source": [
    "**Propuesta Cuatro:** "
   ]
  },
  {
   "cell_type": "markdown",
   "metadata": {},
   "source": [
    "Se hizo uso de las funciones set() & set(), las cuales permite comparar las dos listas y sacar como resultado la considencia que existen en ambas."
   ]
  },
  {
   "cell_type": "code",
   "execution_count": 8,
   "metadata": {},
   "outputs": [
    {
     "name": "stdout",
     "output_type": "stream",
     "text": [
      "96\n",
      "Duracion: 0.010963678359985352 segundos\n"
     ]
    }
   ],
   "source": [
    "inicio = time.time()\n",
    "\n",
    "libros_vendidos = set(catalogo_libros) & set(periodo24_ventas_libros)\n",
    "\n",
    "print(len(libros_vendidos))\n",
    "print('Duracion: {} segundos'.format(time.time() - inicio))"
   ]
  },
  {
   "cell_type": "markdown",
   "metadata": {},
   "source": [
    "**Propuesta Extra:**\n",
    "Se tomo como base la propuesta mostrada en clase, a la cual se le agrego un parametro extra (assume_unique=True) es el cual asume todos los valores unicos como verdaderos y permite ganar eficiencia en la ejecucion del codigo"
   ]
  },
  {
   "cell_type": "code",
   "execution_count": 36,
   "metadata": {},
   "outputs": [
    {
     "name": "stdout",
     "output_type": "stream",
     "text": [
      "96\n",
      "Duracion: 0.03246617317199707 segundos\n"
     ]
    }
   ],
   "source": [
    "inicio = time.time()\n",
    "libros_vendidos = np.intersect1d(periodo24_ventas_libros, catalogo_libros, assume_unique=True)\n",
    "print(len(libros_vendidos))\n",
    "print('Duracion: {} segundos'.format(time.time() - inicio))"
   ]
  }
 ],
 "metadata": {
  "kernelspec": {
   "display_name": "Python 3",
   "language": "python",
   "name": "python3"
  },
  "language_info": {
   "codemirror_mode": {
    "name": "ipython",
    "version": 3
   },
   "file_extension": ".py",
   "mimetype": "text/x-python",
   "name": "python",
   "nbconvert_exporter": "python",
   "pygments_lexer": "ipython3",
   "version": "3.8.3"
  }
 },
 "nbformat": 4,
 "nbformat_minor": 2
}
